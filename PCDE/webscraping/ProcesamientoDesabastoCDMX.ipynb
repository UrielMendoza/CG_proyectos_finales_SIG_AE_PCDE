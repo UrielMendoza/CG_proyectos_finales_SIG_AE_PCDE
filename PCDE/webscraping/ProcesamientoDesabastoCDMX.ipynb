{
  "nbformat": 4,
  "nbformat_minor": 0,
  "metadata": {
    "colab": {
      "provenance": []
    },
    "kernelspec": {
      "name": "python3",
      "display_name": "Python 3"
    },
    "language_info": {
      "name": "python"
    }
  },
  "cells": [
    {
      "cell_type": "code",
      "execution_count": null,
      "metadata": {
        "id": "1zRvg4_DPbDz"
      },
      "outputs": [],
      "source": [
        "import re\n",
        "from bs4 import BeautifulSoup\n",
        "import urllib.request\n",
        "import requests\n",
        "import pandas as pd\n"
      ]
    },
    {
      "cell_type": "code",
      "source": [
        "# Ruta al archivo HTML local\n",
        "file_path = 'desabasto.html'\n",
        "\n",
        "# Abrir y leer el archivo HTML\n",
        "with open(file_path, 'r', encoding='utf-8') as file:\n",
        "    html_content = file.read()"
      ],
      "metadata": {
        "id": "slMFuV1UPfDR"
      },
      "execution_count": null,
      "outputs": []
    },
    {
      "cell_type": "code",
      "source": [
        "soup = BeautifulSoup(html_content, 'html.parser')\n",
        "\n",
        "# Encontrar todos los bloques <div> que contienen colonias y encabezados\n",
        "divs = soup.find_all(\"div\")"
      ],
      "metadata": {
        "id": "IPlL73ASPsLV"
      },
      "execution_count": null,
      "outputs": []
    },
    {
      "cell_type": "code",
      "source": [
        "# Inicializar un diccionario para guardar las listas de colonias bajo sus respectivos encabezados\n",
        "colonias_por_area = {}\n",
        "current_area = \"General\"  # Nombre por defecto en caso de que no haya encabezado al inicio"
      ],
      "metadata": {
        "id": "9fwyKlzDPukB"
      },
      "execution_count": null,
      "outputs": []
    },
    {
      "cell_type": "code",
      "source": [
        "data = []  # Lista para guardar los datos\n",
        "i = 0      # Inicializar el contador para saber el índice del div\n",
        "\n",
        "# Iterar sobre cada div encontrado\n",
        "for div in divs:\n",
        "    i += 1  # Incrementar el índice por cada div\n",
        "    paragraph_text = div.text.strip()  # Capturar y limpiar el texto del div\n",
        "\n",
        "    # Comprobar si el texto contiene el carácter \"–\" y si su longitud es menor que 1400\n",
        "    if \"–\" in paragraph_text and len(paragraph_text) < 1400:\n",
        "        # Guardar en la lista el índice y el texto del div que cumple las condiciones\n",
        "        data.append({\"Índice\": i, \"Texto\": paragraph_text, \"Longitud\": len(paragraph_text)})\n",
        "\n",
        "# Crear un DataFrame de pandas con los datos recogidos\n",
        "df_paragraphs = pd.DataFrame(data)\n",
        "\n",
        "# Mostrar el DataFrame\n",
        "print(df_paragraphs)"
      ],
      "metadata": {
        "colab": {
          "base_uri": "https://localhost:8080/"
        },
        "id": "QkwOrA49l8sV",
        "outputId": "d0f69f8d-5e86-498e-a288-b2e181caf50b"
      },
      "execution_count": null,
      "outputs": [
        {
          "output_type": "stream",
          "name": "stdout",
          "text": [
            "   Índice                                              Texto  Longitud\n",
            "0      42  – Lomas de Capulín\\n– Pueblo de San Bartolo Am...       305\n",
            "1      44  – Adolfo Ruíz Cortinez\\n– Ajusco\\n– Nueva Díaz...       105\n",
            "2      46  – Primero de Mayo\\n– San Lorenzo Acopilco\\n– P...       298\n",
            "3      48  – Ampliación Arboledas Cuautepec\\n– Ampliación...       573\n",
            "4      50  – El Mirador\\n– El Molino Tezonco\\n– El Paraís...      1390\n",
            "5      52  – Tierra Colorada\\n– Tierra Unida\\n– Vista Her...       558\n",
            "6      54  – Ampliación José López Portillo (San Francisc...      1018\n",
            "7      56  – Pueblo San Agustín Ohtenco\\n– Barrio la Luz ...       144\n",
            "8      58  – 3 de mayo\\n– Actopa\\n– Ampliación Cuchilla d...      1115\n",
            "9      60  – Alcanfores (Santa María Nativitas) Tecomulco...       419\n"
          ]
        }
      ]
    },
    {
      "cell_type": "code",
      "source": [
        "import pandas as pd\n",
        "\n",
        "# Supongamos que df_paragraphs es tu DataFrame y que ya contiene la columna \"Texto\"\n",
        "# Primero, dividir los textos en la columna 'Texto' por \"\\n\"\n",
        "df_paragraphs['Texto'] = df_paragraphs['Texto'].str.split('\\n')\n",
        "\n",
        "# Utilizar 'explode' para convertir la lista de textos en filas individuales\n",
        "df_paragraphs = df_paragraphs.explode('Texto')\n",
        "\n",
        "# Opcional: Limpiar cada colonia para remover cualquier espacio extra o caracteres no deseados\n",
        "df_paragraphs['Texto'] = df_paragraphs['Texto'].str.strip()\n",
        "\n",
        "# Si deseas remover el guion inicial \"–\" de cada colonia:\n",
        "df_paragraphs['Texto'] = df_paragraphs['Texto'].str.replace(\"–\", \"\", regex=True).str.strip()\n",
        "\n",
        "# Mostrar el DataFrame actualizado\n",
        "print(df_paragraphs)\n"
      ],
      "metadata": {
        "colab": {
          "base_uri": "https://localhost:8080/"
        },
        "id": "FhxSdHuUnZu2",
        "outputId": "be627a09-d639-41f3-cbe4-1c72c8a6ff8b"
      },
      "execution_count": null,
      "outputs": [
        {
          "output_type": "stream",
          "name": "stdout",
          "text": [
            "    Índice                           Texto  Longitud\n",
            "0       42                Lomas de Capulín       305\n",
            "0       42  Pueblo de San Bartolo Ameyalco       305\n",
            "0       42                 Lomas de La Era       305\n",
            "0       42    Cedros (lomas de los cedros)       305\n",
            "0       42       Pueblo Santa Rosa Xochiac       305\n",
            "..     ...                             ...       ...\n",
            "9       60                    Duraznotitla       419\n",
            "9       60          Santa María del Olivar       419\n",
            "9       60            Barrio La Candelaria       419\n",
            "9       60                      Cristo Rey       419\n",
            "9       60            Ampliación Nativitas       419\n",
            "\n",
            "[237 rows x 3 columns]\n"
          ]
        }
      ]
    },
    {
      "cell_type": "code",
      "source": [
        "df_paragraphs.to_csv('colonias.csv', index=False, encoding='utf-8')"
      ],
      "metadata": {
        "id": "GXk482bhnozC"
      },
      "execution_count": null,
      "outputs": []
    }
  ]
}